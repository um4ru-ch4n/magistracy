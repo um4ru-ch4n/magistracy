{
 "cells": [
  {
   "cell_type": "code",
   "execution_count": null,
   "metadata": {},
   "outputs": [],
   "source": [
    "text1 = \"Lorem ipsum dolor sit amet, consectetur adipiscing elit. Praesent vitae viverra magna. Sed vitae mollis diam, quis varius felis. Vestibulum laoreet, diam quis mattis auctor, justo risus lacinia justo, sed efficitur arcu orci a nunc. Fusce tristique ultricies neque pulvinar viverra. Orci varius natoque penatibus et magnis dis parturient montes, nascetur ridiculus mus. Curabitur fermentum orci sit amet nisl convallis fermentum. Sed cursus at ipsum in cursus. Quisque velit dolor, aliquet vitae auctor non, sodales nec diam. Sed vel diam lectus. Suspendisse consequat erat ac ultricies tempus. Maecenas egestas, ex eu cursus mollis, ante risus mollis nisl, quis posuere est libero sit amet neque. Nullam auctor quam at velit gravida, in lobortis velit feugiat. Ut non sapien tempor, maximus enim quis, feugiat massa. Donec a efficitur nisi. Vestibulum ante ipsum primis in faucibus orci luctus et ultrices posuere cubilia curae; Donec fringilla et nisl a varius.\""
   ]
  },
  {
   "cell_type": "code",
   "execution_count": null,
   "metadata": {},
   "outputs": [],
   "source": [
    "text2 = \"Vivamus tempor diam non varius suscipit. Pellentesque auctor, ligula sed mollis porttitor, elit nulla porttitor felis, consequat tempus ligula diam nec tellus. Mauris vitae dapibus odio, a fermentum ligula. Etiam vitae consectetur neque. Etiam volutpat massa ex, non maximus sapien vulputate nec. Vestibulum consectetur nisi viverra diam vehicula tempus. Quisque scelerisque pharetra iaculis. Interdum et malesuada fames ac ante ipsum primis in faucibus. Donec convallis metus eget eros blandit malesuada. Aenean leo augue, sagittis quis suscipit id, ultrices ac eros. Nulla tempor semper libero non suscipit.\n",
    "Cras dapibus nulla et tristique varius. Nullam sit amet est et augue rutrum rutrum sit amet sit amet lectus. Ut nec porta felis. Donec fringilla, libero ut efficitur imperdiet, neque nisl imperdiet ipsum, sed eleifend purus ex sed eros. Sed fermentum ac arcu non feugiat. Vestibulum ac suscipit erat. Vivamus sed leo a nunc varius maximus.\n",
    "Phasellus maximus metus massa, non egestas felis faucibus a. Aenean eu posuere nibh, at pulvinar velit. In hac habitasse platea dictumst. Curabitur sit amet lorem felis. Aenean at mauris tincidunt, aliquam tellus ac, blandit nisl. Pellentesque lectus quam, interdum eget tincidunt nec, luctus a lorem. Mauris in lorem maximus, porta tortor eu, rhoncus diam. Nam tortor ante, sollicitudin a urna egestas, scelerisque blandit enim.\n",
    "\""
   ]
  },
  {
   "cell_type": "code",
   "execution_count": null,
   "metadata": {},
   "outputs": [],
   "source": [
    "text3 = \"Vestibulum tincidunt aliquet varius. In eget ligula ut nulla varius tempus. Aenean interdum vitae diam sit amet gravida. Etiam consequat odio ac nibh lacinia cursus. Maecenas in laoreet neque. Nam efficitur ipsum tellus, nec dignissim odio consequat sit amet. Vestibulum ante ipsum primis in faucibus orci luctus et ultrices posuere cubilia curae; Proin fermentum efficitur ullamcorper. Duis sit amet nulla eget turpis porttitor aliquet sed scelerisque tortor. Morbi sit amet dui rutrum, aliquet massa quis, auctor augue.\n",
    "Donec sodales ligula eu finibus pellentesque. Donec eu sem vel velit facilisis tempus quis et nunc. In hac habitasse platea dictumst. Etiam vestibulum, dolor a feugiat eleifend, purus ante bibendum lectus, ut porta libero nunc ut arcu. Morbi vel ligula quis lorem hendrerit ullamcorper. Donec eu metus sed leo posuere fermentum in et ex. In laoreet ligula non malesuada rutrum. Mauris et tortor porta, tempor arcu facilisis, dapibus purus. Nullam neque massa, ornare nec tincidunt vel, consequat a mauris. In hac habitasse platea dictumst. Donec blandit erat id felis laoreet, id euismod mi egestas. Curabitur eleifend vehicula ipsum, et sollicitudin erat. Pellentesque ultrices libero ac tincidunt fringilla. Donec blandit ex vel venenatis molestie. Curabitur eget arcu mollis massa luctus mollis. Ut laoreet orci ut nisi pulvinar, nec lobortis purus dignissim.\n",
    "\""
   ]
  },
  {
   "cell_type": "code",
   "execution_count": null,
   "metadata": {},
   "outputs": [],
   "source": []
  }
 ],
 "metadata": {
  "language_info": {
   "name": "python"
  },
  "orig_nbformat": 4
 },
 "nbformat": 4,
 "nbformat_minor": 2
}
