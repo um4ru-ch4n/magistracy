{
  "cells": [
    {
      "cell_type": "code",
      "execution_count": 1,
      "metadata": {
        "id": "lw_VdhzNFNGY"
      },
      "outputs": [],
      "source": [
        "import numpy as np\n",
        "from random import seed\n",
        "from random import randrange\n",
        "from csv import reader\n",
        "import matplotlib.pyplot as plt"
      ]
    },
    {
      "cell_type": "code",
      "execution_count": 11,
      "metadata": {
        "colab": {
          "base_uri": "https://localhost:8080/"
        },
        "id": "qP5hT0uHFTOs",
        "outputId": "d2437fe3-c94a-4fe6-e194-6f3bdb5d9dbf"
      },
      "outputs": [
        {
          "ename": "AttributeError",
          "evalue": "'bytes' object has no attribute 'encode'",
          "output_type": "error",
          "traceback": [
            "\u001b[0;31m---------------------------------------------------------------------------\u001b[0m",
            "\u001b[0;31mAttributeError\u001b[0m                            Traceback (most recent call last)",
            "Cell \u001b[0;32mIn [11], line 2\u001b[0m\n\u001b[1;32m      1\u001b[0m text\u001b[38;5;241m=\u001b[39m\u001b[38;5;124m'''\u001b[39m\u001b[38;5;124m\"\u001b[39m\u001b[38;5;124mLorem ipsum dolor sit amet, consectetur adipiscing elit. Praesent vitae viverra magna. Sed vitae mollis diam, quis varius felis. Vestibulum laoreet, diam quis mattis auctor, justo risus lacinia justo, sed efficitur arcu orci a nunc. Fusce tristique ultricies neque pulvinar viverra. Orci varius natoque penatibus et magnis dis parturient montes, nascetur ridiculus mus. Curabitur fermentum orci sit amet nisl convallis fermentum. Sed cursus at ipsum in cursus. Quisque velit dolor, aliquet vitae auctor non, sodales nec diam. Sed vel diam lectus. Suspendisse consequat erat ac ultricies tempus. Maecenas egestas, ex eu cursus mollis, ante risus mollis nisl, quis posuere est libero sit amet neque. Nullam auctor quam at velit gravida, in lobortis velit feugiat. Ut non sapien tempor, maximus enim quis, feugiat massa. Donec a efficitur nisi. Vestibulum ante ipsum primis in faucibus orci luctus et ultrices posuere cubilia curae; Donec fringilla et nisl a varius.\u001b[39m\u001b[38;5;124m\"\u001b[39m\u001b[38;5;124m'''\u001b[39m\u001b[38;5;241m.\u001b[39mencode(\u001b[38;5;124m'\u001b[39m\u001b[38;5;124mcp1251\u001b[39m\u001b[38;5;124m'\u001b[39m)\n\u001b[0;32m----> 2\u001b[0m \u001b[43mtext\u001b[49m\u001b[38;5;241;43m.\u001b[39;49m\u001b[43mencode\u001b[49m(\u001b[38;5;124m'\u001b[39m\u001b[38;5;124mcp1251\u001b[39m\u001b[38;5;124m'\u001b[39m)\n\u001b[1;32m      3\u001b[0m \u001b[38;5;28mprint\u001b[39m(text)\n",
            "\u001b[0;31mAttributeError\u001b[0m: 'bytes' object has no attribute 'encode'"
          ]
        }
      ],
      "source": [
        "text='''\"Lorem ipsum dolor sit amet, consectetur adipiscing elit. Praesent vitae viverra magna. Sed vitae mollis diam, quis varius felis. Vestibulum laoreet, diam quis mattis auctor, justo risus lacinia justo, sed efficitur arcu orci a nunc. Fusce tristique ultricies neque pulvinar viverra. Orci varius natoque penatibus et magnis dis parturient montes, nascetur ridiculus mus. Curabitur fermentum orci sit amet nisl convallis fermentum. Sed cursus at ipsum in cursus. Quisque velit dolor, aliquet vitae auctor non, sodales nec diam. Sed vel diam lectus. Suspendisse consequat erat ac ultricies tempus. Maecenas egestas, ex eu cursus mollis, ante risus mollis nisl, quis posuere est libero sit amet neque. Nullam auctor quam at velit gravida, in lobortis velit feugiat. Ut non sapien tempor, maximus enim quis, feugiat massa. Donec a efficitur nisi. Vestibulum ante ipsum primis in faucibus orci luctus et ultrices posuere cubilia curae; Donec fringilla et nisl a varius.\"'''.encode('cp1251')\n",
        "text.encode('cp1251')\n",
        "print(text)"
      ]
    },
    {
      "cell_type": "code",
      "execution_count": null,
      "metadata": {
        "colab": {
          "base_uri": "https://localhost:8080/"
        },
        "id": "xZwt-NTrMZ0J",
        "outputId": "1645db7a-6765-4972-a10a-15839d4991c4"
      },
      "outputs": [],
      "source": [
        "print(text.decode('cp1251'))"
      ]
    },
    {
      "cell_type": "code",
      "execution_count": 12,
      "metadata": {
        "id": "kTPVH-Rd94ui"
      },
      "outputs": [],
      "source": [
        "text1 = '''\"Lorem ipsum dolor sit amet, consectetur adipiscing elit. Praesent vitae viverra magna. Sed vitae mollis diam, quis varius felis. Vestibulum laoreet, diam quis mattis auctor, justo risus lacinia justo, sed efficitur arcu orci a nunc. Fusce tristique ultricies neque pulvinar viverra. Orci varius natoque penatibus et magnis dis parturient montes, nascetur ridiculus mus. Curabitur fermentum orci sit amet nisl convallis fermentum. Sed cursus at ipsum in cursus. Quisque velit dolor, aliquet vitae auctor non, sodales nec diam. Sed vel diam lectus. Suspendisse consequat erat ac ultricies tempus. Maecenas egestas, ex eu cursus mollis, ante risus mollis nisl, quis posuere est libero sit amet neque. Nullam auctor quam at velit gravida, in lobortis velit feugiat. Ut non sapien tempor, maximus enim quis, feugiat massa. Donec a efficitur nisi. Vestibulum ante ipsum primis in faucibus orci luctus et ultrices posuere cubilia curae; Donec fringilla et nisl a varius.\n",
        "\"'''"
      ]
    },
    {
      "cell_type": "code",
      "execution_count": 13,
      "metadata": {
        "id": "iokVBVb3-ipp"
      },
      "outputs": [],
      "source": [
        "text2 = '''\"Vivamus tempor diam non varius suscipit. Pellentesque auctor, ligula sed mollis porttitor, elit nulla porttitor felis, consequat tempus ligula diam nec tellus. Mauris vitae dapibus odio, a fermentum ligula. Etiam vitae consectetur neque. Etiam volutpat massa ex, non maximus sapien vulputate nec. Vestibulum consectetur nisi viverra diam vehicula tempus. Quisque scelerisque pharetra iaculis. Interdum et malesuada fames ac ante ipsum primis in faucibus. Donec convallis metus eget eros blandit malesuada. Aenean leo augue, sagittis quis suscipit id, ultrices ac eros. Nulla tempor semper libero non suscipit.\n",
        "Cras dapibus nulla et tristique varius. Nullam sit amet est et augue rutrum rutrum sit amet sit amet lectus. Ut nec porta felis. Donec fringilla, libero ut efficitur imperdiet, neque nisl imperdiet ipsum, sed eleifend purus ex sed eros. Sed fermentum ac arcu non feugiat. Vestibulum ac suscipit erat. Vivamus sed leo a nunc varius maximus.\n",
        "Phasellus maximus metus massa, non egestas felis faucibus a. Aenean eu posuere nibh, at pulvinar velit. In hac habitasse platea dictumst. Curabitur sit amet lorem felis. Aenean at mauris tincidunt, aliquam tellus ac, blandit nisl. Pellentesque lectus quam, interdum eget tincidunt nec, luctus a lorem. Mauris in lorem maximus, porta tortor eu, rhoncus diam. Nam tortor ante, sollicitudin a urna egestas, scelerisque blandit enim.\n",
        "\n",
        "\"'''"
      ]
    },
    {
      "cell_type": "code",
      "execution_count": 14,
      "metadata": {
        "id": "cWA63jYa_BUf"
      },
      "outputs": [],
      "source": [
        "text3 = '''\"Vestibulum tincidunt aliquet varius. In eget ligula ut nulla varius tempus. Aenean interdum vitae diam sit amet gravida. Etiam consequat odio ac nibh lacinia cursus. Maecenas in laoreet neque. Nam efficitur ipsum tellus, nec dignissim odio consequat sit amet. Vestibulum ante ipsum primis in faucibus orci luctus et ultrices posuere cubilia curae; Proin fermentum efficitur ullamcorper. Duis sit amet nulla eget turpis porttitor aliquet sed scelerisque tortor. Morbi sit amet dui rutrum, aliquet massa quis, auctor augue.\n",
        "Donec sodales ligula eu finibus pellentesque. Donec eu sem vel velit facilisis tempus quis et nunc. In hac habitasse platea dictumst. Etiam vestibulum, dolor a feugiat eleifend, purus ante bibendum lectus, ut porta libero nunc ut arcu. Morbi vel ligula quis lorem hendrerit ullamcorper. Donec eu metus sed leo posuere fermentum in et ex. In laoreet ligula non malesuada rutrum. Mauris et tortor porta, tempor arcu facilisis, dapibus purus. Nullam neque massa, ornare nec tincidunt vel, consequat a mauris. In hac habitasse platea dictumst. Donec blandit erat id felis laoreet, id euismod mi egestas. Curabitur eleifend vehicula ipsum, et sollicitudin erat. Pellentesque ultrices libero ac tincidunt fringilla. Donec blandit ex vel venenatis molestie. Curabitur eget arcu mollis massa luctus mollis. Ut laoreet orci ut nisi pulvinar, nec lobortis purus dignissim.\n",
        "\"'''"
      ]
    },
    {
      "cell_type": "code",
      "execution_count": 22,
      "metadata": {
        "colab": {
          "base_uri": "https://localhost:8080/"
        },
        "id": "vZ5DwzSZNAGm",
        "outputId": "424de699-ee89-43de-dfac-6aca4fedb2c6"
      },
      "outputs": [
        {
          "name": "stdout",
          "output_type": "stream",
          "text": [
            "['``', 'Lorem', 'ipsum', 'dolor', 'sit', 'amet', ',', 'consectetur', 'adipiscing', 'elit', '.', 'Praesent', 'vitae', 'viverra', 'magna', '.', 'Sed', 'vitae', 'mollis', 'diam', ',', 'quis', 'varius', 'felis', '.', 'Vestibulum', 'laoreet', ',', 'diam', 'quis', 'mattis', 'auctor', ',', 'justo', 'risus', 'lacinia', 'justo', ',', 'sed', 'efficitur', 'arcu', 'orci', 'a', 'nunc', '.', 'Fusce', 'tristique', 'ultricies', 'neque', 'pulvinar', 'viverra', '.', 'Orci', 'varius', 'natoque', 'penatibus', 'et', 'magnis', 'dis', 'parturient', 'montes', ',', 'nascetur', 'ridiculus', 'mus', '.', 'Curabitur', 'fermentum', 'orci', 'sit', 'amet', 'nisl', 'convallis', 'fermentum', '.', 'Sed', 'cursus', 'at', 'ipsum', 'in', 'cursus', '.', 'Quisque', 'velit', 'dolor', ',', 'aliquet', 'vitae', 'auctor', 'non', ',', 'sodales', 'nec', 'diam', '.', 'Sed', 'vel', 'diam', 'lectus', '.', 'Suspendisse', 'consequat', 'erat', 'ac', 'ultricies', 'tempus', '.', 'Maecenas', 'egestas', ',', 'ex', 'eu', 'cursus', 'mollis', ',', 'ante', 'risus', 'mollis', 'nisl', ',', 'quis', 'posuere', 'est', 'libero', 'sit', 'amet', 'neque', '.', 'Nullam', 'auctor', 'quam', 'at', 'velit', 'gravida', ',', 'in', 'lobortis', 'velit', 'feugiat', '.', 'Ut', 'non', 'sapien', 'tempor', ',', 'maximus', 'enim', 'quis', ',', 'feugiat', 'massa', '.', 'Donec', 'a', 'efficitur', 'nisi', '.', 'Vestibulum', 'ante', 'ipsum', 'primis', 'in', 'faucibus', 'orci', 'luctus', 'et', 'ultrices', 'posuere', 'cubilia', 'curae', ';', 'Donec', 'fringilla', 'et', 'nisl', 'a', 'varius.', \"''\"]\n",
            "words 178\n",
            "[('.', 15), (',', 14), ('diam', 4), ('quis', 4), ('ipsum', 3), ('sit', 3), ('amet', 3), ('vitae', 3), ('Sed', 3), ('mollis', 3), ('auctor', 3), ('orci', 3), ('a', 3), ('et', 3), ('nisl', 3), ('cursus', 3), ('in', 3), ('velit', 3), ('dolor', 2), ('viverra', 2), ('varius', 2), ('Vestibulum', 2), ('justo', 2), ('risus', 2), ('efficitur', 2), ('ultricies', 2), ('neque', 2), ('fermentum', 2), ('at', 2), ('non', 2), ('ante', 2), ('posuere', 2), ('feugiat', 2), ('Donec', 2), ('``', 1), ('Lorem', 1), ('consectetur', 1), ('adipiscing', 1), ('elit', 1), ('Praesent', 1), ('magna', 1), ('felis', 1), ('laoreet', 1), ('mattis', 1), ('lacinia', 1), ('sed', 1), ('arcu', 1), ('nunc', 1), ('Fusce', 1), ('tristique', 1), ('pulvinar', 1), ('Orci', 1), ('natoque', 1), ('penatibus', 1), ('magnis', 1), ('dis', 1), ('parturient', 1), ('montes', 1), ('nascetur', 1), ('ridiculus', 1), ('mus', 1), ('Curabitur', 1), ('convallis', 1), ('Quisque', 1), ('aliquet', 1), ('sodales', 1), ('nec', 1), ('vel', 1), ('lectus', 1), ('Suspendisse', 1), ('consequat', 1), ('erat', 1), ('ac', 1), ('tempus', 1), ('Maecenas', 1), ('egestas', 1), ('ex', 1), ('eu', 1), ('est', 1), ('libero', 1), ('Nullam', 1), ('quam', 1), ('gravida', 1), ('lobortis', 1), ('Ut', 1), ('sapien', 1), ('tempor', 1), ('maximus', 1), ('enim', 1), ('massa', 1), ('nisi', 1), ('primis', 1), ('faucibus', 1), ('luctus', 1), ('ultrices', 1), ('cubilia', 1), ('curae', 1), (';', 1), ('fringilla', 1), ('varius.', 1), (\"''\", 1)]\n",
            "Unique words 101\n"
          ]
        },
        {
          "name": "stderr",
          "output_type": "stream",
          "text": [
            "[nltk_data] Downloading package punkt to /home/mrx/nltk_data...\n",
            "[nltk_data]   Package punkt is already up-to-date!\n"
          ]
        }
      ],
      "source": [
        "from nltk.corpus.reader.wordnet import FreqDist\n",
        "import nltk\n",
        "nltk.download('punkt')\n",
        "from nltk.tokenize import sent_tokenize, word_tokenize\n",
        "words = word_tokenize(text1)\n",
        "print(words)\n",
        "print('words', len(words))\n",
        "words_unique = FreqDist(words)\n",
        "words_unique = words_unique.most_common()\n",
        "print(words_unique)\n",
        "print('Unique words', len(words_unique))"
      ]
    },
    {
      "cell_type": "code",
      "execution_count": 28,
      "metadata": {
        "colab": {
          "base_uri": "https://localhost:8080/"
        },
        "id": "lIJ-DkBcPTBS",
        "outputId": "c5adfcea-1a5f-4a8f-d0f3-029a444ad1cb"
      },
      "outputs": [
        {
          "name": "stderr",
          "output_type": "stream",
          "text": [
            "[nltk_data] Downloading package stopwords to /home/mrx/nltk_data...\n",
            "[nltk_data]   Package stopwords is already up-to-date!\n"
          ]
        },
        {
          "name": "stdout",
          "output_type": "stream",
          "text": [
            "['``', 'Vestibulum', 'tincidunt', 'aliquet', 'varius', '.', 'In', 'eget', 'ligula', 'nulla', 'varius', 'tempus', '.', 'Aenean', 'interdum', 'vitae', 'diam', 'amet', 'gravida', '.', 'Etiam', 'consequat', 'odio', 'ac', 'nibh', 'lacinia', 'cursus', '.', 'Maecenas', 'laoreet', 'neque', '.', 'Nam', 'efficitur', 'ipsum', 'tellus', ',', 'nec', 'dignissim', 'odio', 'consequat', 'amet', '.', 'Vestibulum', 'ipsum', 'primis', 'faucibus', 'orci', 'luctus', 'ultrices', 'posuere', 'cubilia', 'curae', ';', 'Proin', 'fermentum', 'efficitur', 'ullamcorper', '.', 'Duis', 'amet', 'nulla', 'eget', 'turpis', 'porttitor', 'aliquet', 'sed', 'scelerisque', 'tortor', '.', 'Morbi', 'amet', 'dui', 'rutrum', ',', 'aliquet', 'massa', 'quis', ',', 'auctor', 'augue', '.', 'Donec', 'sodales', 'ligula', 'finibus', 'pellentesque', '.', 'Donec', 'vel', 'velit', 'facilisis', 'tempus', 'quis', 'nunc', '.', 'In', 'hac', 'habitasse', 'platea', 'dictumst', '.', 'Etiam', 'vestibulum', ',', 'dolor', 'feugiat', 'eleifend', ',', 'purus', 'bibendum', 'lectus', ',', 'porta', 'libero', 'nunc', 'arcu', '.', 'Morbi', 'vel', 'ligula', 'quis', 'lorem', 'hendrerit', 'ullamcorper', '.', 'Donec', 'metus', 'sed', 'leo', 'posuere', 'fermentum', '.', 'In', 'laoreet', 'ligula', 'malesuada', 'rutrum', '.', 'Mauris', 'tortor', 'porta', ',', 'tempor', 'arcu', 'facilisis', ',', 'dapibus', 'purus', '.', 'Nullam', 'neque', 'massa', ',', 'ornare', 'nec', 'tincidunt', 'vel', ',', 'consequat', 'mauris', '.', 'In', 'hac', 'habitasse', 'platea', 'dictumst', '.', 'Donec', 'blandit', 'erat', 'id', 'felis', 'laoreet', ',', 'id', 'euismod', 'egestas', '.', 'Curabitur', 'eleifend', 'vehicula', 'ipsum', ',', 'sollicitudin', 'erat', '.', 'Pellentesque', 'ultrices', 'libero', 'ac', 'tincidunt', 'fringilla', '.', 'Donec', 'blandit', 'vel', 'venenatis', 'molestie', '.', 'Curabitur', 'eget', 'arcu', 'mollis', 'massa', 'luctus', 'mollis', '.', 'Ut', 'laoreet', 'orci', 'pulvinar', ',', 'nec', 'lobortis', 'purus', 'dignissim.', \"''\"]\n",
            " 218\n",
            "[('.', 24), (',', 13), ('Donec', 5), ('In', 4), ('ligula', 4), ('amet', 4), ('laoreet', 4), ('vel', 4), ('tincidunt', 3), ('aliquet', 3), ('eget', 3), ('consequat', 3), ('ipsum', 3), ('nec', 3), ('massa', 3), ('quis', 3), ('purus', 3), ('arcu', 3), ('Vestibulum', 2), ('varius', 2), ('nulla', 2), ('tempus', 2), ('Etiam', 2), ('odio', 2), ('ac', 2), ('neque', 2), ('efficitur', 2), ('orci', 2), ('luctus', 2), ('ultrices', 2), ('posuere', 2), ('fermentum', 2), ('ullamcorper', 2), ('sed', 2), ('tortor', 2), ('Morbi', 2), ('rutrum', 2), ('facilisis', 2), ('nunc', 2), ('hac', 2), ('habitasse', 2), ('platea', 2), ('dictumst', 2), ('eleifend', 2), ('porta', 2), ('libero', 2), ('blandit', 2), ('erat', 2), ('id', 2), ('Curabitur', 2), ('mollis', 2), ('``', 1), ('Aenean', 1), ('interdum', 1), ('vitae', 1), ('diam', 1), ('gravida', 1), ('nibh', 1), ('lacinia', 1), ('cursus', 1), ('Maecenas', 1), ('Nam', 1), ('tellus', 1), ('dignissim', 1), ('primis', 1), ('faucibus', 1), ('cubilia', 1), ('curae', 1), (';', 1), ('Proin', 1), ('Duis', 1), ('turpis', 1), ('porttitor', 1), ('scelerisque', 1), ('dui', 1), ('auctor', 1), ('augue', 1), ('sodales', 1), ('finibus', 1), ('pellentesque', 1), ('velit', 1), ('vestibulum', 1), ('dolor', 1), ('feugiat', 1), ('bibendum', 1), ('lectus', 1), ('lorem', 1), ('hendrerit', 1), ('metus', 1), ('leo', 1), ('malesuada', 1), ('Mauris', 1), ('tempor', 1), ('dapibus', 1), ('Nullam', 1), ('ornare', 1), ('mauris', 1), ('felis', 1), ('euismod', 1), ('egestas', 1), ('vehicula', 1), ('sollicitudin', 1), ('Pellentesque', 1), ('fringilla', 1), ('venenatis', 1), ('molestie', 1), ('Ut', 1), ('pulvinar', 1), ('lobortis', 1), ('dignissim.', 1), (\"''\", 1)]\n",
            "Unique 111\n"
          ]
        }
      ],
      "source": [
        "nltk.download('stopwords')\n",
        "from nltk.corpus import stopwords\n",
        "text_tokens = word_tokenize(text3)\n",
        "\n",
        "stpwords = [word for word in text_tokens if not word in stopwords.words()]\n",
        "\n",
        "print(stpwords)\n",
        "print('',len(stpwords))\n",
        "stpwords_unique = FreqDist(stpwords)\n",
        "stpwords_unique = stpwords_unique.most_common()\n",
        "print(stpwords_unique)\n",
        "print('Unique', len(stpwords_unique))"
      ]
    },
    {
      "cell_type": "code",
      "execution_count": 29,
      "metadata": {
        "colab": {
          "base_uri": "https://localhost:8080/",
          "height": 750
        },
        "id": "sEUoL11vSB9k",
        "outputId": "17e0f723-edce-47c2-b39f-8490bdb74ef2"
      },
      "outputs": [
        {
          "name": "stderr",
          "output_type": "stream",
          "text": [
            "[nltk_data] Error loading p/unkt: Package 'p/unkt' not found in index\n",
            "[nltk_data] Downloading package wordnet to /home/mrx/nltk_data...\n",
            "[nltk_data]   Package wordnet is already up-to-date!\n",
            "[nltk_data] Downloading package stopwords to /home/mrx/nltk_data...\n",
            "[nltk_data]   Package stopwords is already up-to-date!\n",
            "[nltk_data] Downloading package omw-1.4 to /home/mrx/nltk_data...\n",
            "[nltk_data]   Package omw-1.4 is already up-to-date!\n",
            "No artists with labels found to put in legend.  Note that artists whose label start with an underscore are ignored when legend() is called with no argument.\n"
          ]
        },
        {
          "name": "stdout",
          "output_type": "stream",
          "text": [
            "['``', 'vestibulum', 'tincidunt', 'aliquet', 'varius', '.', 'in', 'eget', 'ligula', 'nulla', 'varius', 'tempus', '.', 'aenean', 'interdum', 'vita', 'diam', 'amet', 'gravida', '.', 'etiam', 'consequat', 'odio', 'ac', 'nibh', 'lacinia', 'cursus', '.', 'maecena', 'laoreet', 'nequ', '.', 'nam', 'efficitur', 'ipsum', 'tellus', ',', 'nec', 'dignissim', 'odio', 'consequat', 'amet', '.', 'vestibulum', 'ipsum', 'primi', 'faucibus', 'orci', 'luctus', 'ultric', 'posuer', 'cubilia', 'cura', ';', 'proin', 'fermentum', 'efficitur', 'ullamcorp', '.', 'dui', 'amet', 'nulla', 'eget', 'turpi', 'porttitor', 'aliquet', 'sed', 'scelerisqu', 'tortor', '.', 'morbi', 'amet', 'dui', 'rutrum', ',', 'aliquet', 'massa', 'qui', ',', 'auctor', 'augu', '.', 'donec', 'sodal', 'ligula', 'finibus', 'pellentesqu', '.', 'donec', 'vel', 'velit', 'facilisi', 'tempus', 'qui', 'nunc', '.', 'in', 'hac', 'habitass', 'platea', 'dictumst', '.', 'etiam', 'vestibulum', ',', 'dolor', 'feugiat', 'eleifend', ',', 'purus', 'bibendum', 'lectus', ',', 'porta', 'libero', 'nunc', 'arcu', '.', 'morbi', 'vel', 'ligula', 'qui', 'lorem', 'hendrerit', 'ullamcorp', '.', 'donec', 'metus', 'sed', 'leo', 'posuer', 'fermentum', '.', 'in', 'laoreet', 'ligula', 'malesuada', 'rutrum', '.', 'mauri', 'tortor', 'porta', ',', 'tempor', 'arcu', 'facilisi', ',', 'dapibus', 'purus', '.', 'nullam', 'nequ', 'massa', ',', 'ornar', 'nec', 'tincidunt', 'vel', ',', 'consequat', 'mauri', '.', 'in', 'hac', 'habitass', 'platea', 'dictumst', '.', 'donec', 'blandit', 'erat', 'id', 'feli', 'laoreet', ',', 'id', 'euismod', 'egesta', '.', 'curabitur', 'eleifend', 'vehicula', 'ipsum', ',', 'sollicitudin', 'erat', '.', 'pellentesqu', 'ultric', 'libero', 'ac', 'tincidunt', 'fringilla', '.', 'donec', 'blandit', 'vel', 'venenati', 'molesti', '.', 'curabitur', 'eget', 'arcu', 'molli', 'massa', 'luctus', 'molli', '.', 'ut', 'laoreet', 'orci', 'pulvinar', ',', 'nec', 'loborti', 'purus', 'dignissim.', \"''\"]\n",
            "Stemed 218\n",
            "[('.', 24), (',', 13), ('donec', 5), ('in', 4), ('ligula', 4), ('amet', 4), ('laoreet', 4), ('vel', 4), ('vestibulum', 3), ('tincidunt', 3), ('aliquet', 3), ('eget', 3), ('consequat', 3), ('ipsum', 3), ('nec', 3), ('massa', 3), ('qui', 3), ('purus', 3), ('arcu', 3), ('varius', 2), ('nulla', 2), ('tempus', 2), ('etiam', 2), ('odio', 2), ('ac', 2), ('nequ', 2), ('efficitur', 2), ('orci', 2), ('luctus', 2), ('ultric', 2), ('posuer', 2), ('fermentum', 2), ('ullamcorp', 2), ('dui', 2), ('sed', 2), ('tortor', 2), ('morbi', 2), ('rutrum', 2), ('pellentesqu', 2), ('facilisi', 2), ('nunc', 2), ('hac', 2), ('habitass', 2), ('platea', 2), ('dictumst', 2), ('eleifend', 2), ('porta', 2), ('libero', 2), ('mauri', 2), ('blandit', 2), ('erat', 2), ('id', 2), ('curabitur', 2), ('molli', 2), ('``', 1), ('aenean', 1), ('interdum', 1), ('vita', 1), ('diam', 1), ('gravida', 1), ('nibh', 1), ('lacinia', 1), ('cursus', 1), ('maecena', 1), ('nam', 1), ('tellus', 1), ('dignissim', 1), ('primi', 1), ('faucibus', 1), ('cubilia', 1), ('cura', 1), (';', 1), ('proin', 1), ('turpi', 1), ('porttitor', 1), ('scelerisqu', 1), ('auctor', 1), ('augu', 1), ('sodal', 1), ('finibus', 1), ('velit', 1), ('dolor', 1), ('feugiat', 1), ('bibendum', 1), ('lectus', 1), ('lorem', 1), ('hendrerit', 1), ('metus', 1), ('leo', 1), ('malesuada', 1), ('tempor', 1), ('dapibus', 1), ('nullam', 1), ('ornar', 1), ('feli', 1), ('euismod', 1), ('egesta', 1), ('vehicula', 1), ('sollicitudin', 1), ('fringilla', 1), ('venenati', 1), ('molesti', 1), ('ut', 1), ('pulvinar', 1), ('loborti', 1), ('dignissim.', 1), (\"''\", 1)]\n",
            "Unique 107\n",
            "carring\n",
            "218 ['``', 'vestibulum', 'tincidunt', 'aliquet', 'varius', '.', 'in', 'eget', 'ligula', 'nulla', 'varius', 'tempus', '.', 'aenean', 'interdum', 'vita', 'diam', 'amet', 'gravida', '.', 'etiam', 'consequat', 'odio', 'ac', 'nibh', 'lacinia', 'cursus', '.', 'maecena', 'laoreet', 'nequ', '.', 'nam', 'efficitur', 'ipsum', 'tellus', ',', 'nec', 'dignissim', 'odio', 'consequat', 'amet', '.', 'vestibulum', 'ipsum', 'primo', 'faucibus', 'orci', 'luctus', 'ultric', 'posuer', 'cubilia', 'cura', ';', 'proin', 'fermentum', 'efficitur', 'ullamcorp', '.', 'duo', 'amet', 'nulla', 'eget', 'turpi', 'porttitor', 'aliquet', 'sed', 'scelerisqu', 'tortor', '.', 'morbi', 'amet', 'duo', 'rutrum', ',', 'aliquet', 'massa', 'qui', ',', 'auctor', 'augu', '.', 'donec', 'sodal', 'ligula', 'finibus', 'pellentesqu', '.', 'donec', 'vel', 'velit', 'facilisi', 'tempus', 'qui', 'nunc', '.', 'in', 'hac', 'habitass', 'platea', 'dictumst', '.', 'etiam', 'vestibulum', ',', 'dolor', 'feugiat', 'eleifend', ',', 'purus', 'bibendum', 'lectus', ',', 'porta', 'libero', 'nunc', 'arcu', '.', 'morbi', 'vel', 'ligula', 'qui', 'lorem', 'hendrerit', 'ullamcorp', '.', 'donec', 'metus', 'sed', 'leo', 'posuer', 'fermentum', '.', 'in', 'laoreet', 'ligula', 'malesuada', 'rutrum', '.', 'mauri', 'tortor', 'porta', ',', 'tempor', 'arcu', 'facilisi', ',', 'dapibus', 'purus', '.', 'nullam', 'nequ', 'massa', ',', 'ornar', 'nec', 'tincidunt', 'vel', ',', 'consequat', 'mauri', '.', 'in', 'hac', 'habitass', 'platea', 'dictumst', '.', 'donec', 'blandit', 'erat', 'id', 'feli', 'laoreet', ',', 'id', 'euismod', 'egesta', '.', 'curabitur', 'eleifend', 'vehicula', 'ipsum', ',', 'sollicitudin', 'erat', '.', 'pellentesqu', 'ultric', 'libero', 'ac', 'tincidunt', 'fringilla', '.', 'donec', 'blandit', 'vel', 'venenati', 'molesti', '.', 'curabitur', 'eget', 'arcu', 'molli', 'massa', 'luctus', 'molli', '.', 'ut', 'laoreet', 'orci', 'pulvinar', ',', 'nec', 'loborti', 'purus', 'dignissim.', \"''\"]\n",
            "214\n",
            "[0.11214953271028037, 0.06074766355140187, 0.02336448598130841, 0.018691588785046728, 0.018691588785046728, 0.018691588785046728, 0.018691588785046728, 0.014018691588785047, 0.014018691588785047, 0.014018691588785047, 0.014018691588785047, 0.014018691588785047, 0.014018691588785047, 0.014018691588785047, 0.014018691588785047, 0.014018691588785047, 0.014018691588785047, 0.014018691588785047, 0.009345794392523364, 0.009345794392523364, 0.009345794392523364, 0.009345794392523364, 0.009345794392523364, 0.009345794392523364, 0.009345794392523364, 0.009345794392523364, 0.009345794392523364, 0.009345794392523364, 0.009345794392523364, 0.009345794392523364, 0.009345794392523364, 0.009345794392523364, 0.009345794392523364, 0.009345794392523364, 0.009345794392523364, 0.009345794392523364, 0.009345794392523364, 0.009345794392523364, 0.009345794392523364, 0.009345794392523364, 0.009345794392523364, 0.009345794392523364, 0.009345794392523364, 0.009345794392523364, 0.009345794392523364, 0.009345794392523364, 0.009345794392523364, 0.009345794392523364, 0.009345794392523364, 0.009345794392523364, 0.009345794392523364, 0.009345794392523364, 0.009345794392523364, 0.004672897196261682, 0.004672897196261682, 0.004672897196261682, 0.004672897196261682, 0.004672897196261682, 0.004672897196261682, 0.004672897196261682, 0.004672897196261682, 0.004672897196261682, 0.004672897196261682, 0.004672897196261682, 0.004672897196261682, 0.004672897196261682, 0.004672897196261682, 0.004672897196261682, 0.004672897196261682, 0.004672897196261682, 0.004672897196261682, 0.004672897196261682, 0.004672897196261682, 0.004672897196261682, 0.004672897196261682, 0.004672897196261682, 0.004672897196261682, 0.004672897196261682, 0.004672897196261682, 0.004672897196261682, 0.004672897196261682, 0.004672897196261682, 0.004672897196261682, 0.004672897196261682, 0.004672897196261682, 0.004672897196261682, 0.004672897196261682, 0.004672897196261682, 0.004672897196261682, 0.004672897196261682, 0.004672897196261682, 0.004672897196261682, 0.004672897196261682, 0.004672897196261682, 0.004672897196261682, 0.004672897196261682, 0.004672897196261682, 0.004672897196261682, 0.004672897196261682, 0.004672897196261682, 0.004672897196261682, 0.004672897196261682, 0.004672897196261682, 0.004672897196261682, 0.004672897196261682, 0.004672897196261682]\n",
            "PROBOBOBOBOB= [0.11214953271028037, 0.06074766355140187, 0.02336448598130841, 0.018691588785046728, 0.018691588785046728, 0.018691588785046728, 0.018691588785046728, 0.014018691588785047, 0.014018691588785047, 0.014018691588785047, 0.014018691588785047, 0.014018691588785047, 0.014018691588785047, 0.014018691588785047, 0.014018691588785047, 0.014018691588785047, 0.014018691588785047, 0.014018691588785047, 0.009345794392523364, 0.009345794392523364, 0.009345794392523364, 0.009345794392523364, 0.009345794392523364, 0.009345794392523364, 0.009345794392523364, 0.009345794392523364, 0.009345794392523364, 0.009345794392523364, 0.009345794392523364, 0.009345794392523364, 0.009345794392523364, 0.009345794392523364, 0.009345794392523364, 0.009345794392523364, 0.009345794392523364, 0.009345794392523364, 0.009345794392523364, 0.009345794392523364, 0.009345794392523364, 0.009345794392523364, 0.009345794392523364, 0.009345794392523364, 0.009345794392523364, 0.009345794392523364, 0.009345794392523364, 0.009345794392523364, 0.009345794392523364, 0.009345794392523364, 0.009345794392523364, 0.009345794392523364, 0.009345794392523364, 0.009345794392523364, 0.009345794392523364, 0.004672897196261682, 0.004672897196261682, 0.004672897196261682, 0.004672897196261682, 0.004672897196261682, 0.004672897196261682, 0.004672897196261682, 0.004672897196261682, 0.004672897196261682, 0.004672897196261682, 0.004672897196261682, 0.004672897196261682, 0.004672897196261682, 0.004672897196261682, 0.004672897196261682, 0.004672897196261682, 0.004672897196261682, 0.004672897196261682, 0.004672897196261682, 0.004672897196261682, 0.004672897196261682, 0.004672897196261682, 0.004672897196261682, 0.004672897196261682, 0.004672897196261682, 0.004672897196261682, 0.004672897196261682, 0.004672897196261682, 0.004672897196261682, 0.004672897196261682, 0.004672897196261682, 0.004672897196261682, 0.004672897196261682, 0.004672897196261682, 0.004672897196261682, 0.004672897196261682, 0.004672897196261682, 0.004672897196261682, 0.004672897196261682, 0.004672897196261682, 0.004672897196261682, 0.004672897196261682, 0.004672897196261682, 0.004672897196261682, 0.004672897196261682, 0.004672897196261682, 0.004672897196261682, 0.004672897196261682, 0.004672897196261682, 0.004672897196261682, 0.004672897196261682, 0.004672897196261682, 0.004672897196261682]\n",
            "[0.11214953271028037, 0.06074766355140187, 0.02336448598130841, 0.018691588785046728, 0.018691588785046728, 0.018691588785046728, 0.018691588785046728, 0.014018691588785047, 0.014018691588785047, 0.014018691588785047, 0.014018691588785047, 0.014018691588785047, 0.014018691588785047, 0.014018691588785047, 0.014018691588785047, 0.014018691588785047, 0.014018691588785047, 0.014018691588785047, 0.009345794392523364, 0.009345794392523364, 0.009345794392523364, 0.009345794392523364, 0.009345794392523364, 0.009345794392523364, 0.009345794392523364, 0.009345794392523364, 0.009345794392523364, 0.009345794392523364, 0.009345794392523364, 0.009345794392523364, 0.009345794392523364, 0.009345794392523364, 0.009345794392523364, 0.009345794392523364, 0.009345794392523364, 0.009345794392523364, 0.009345794392523364, 0.009345794392523364, 0.009345794392523364, 0.009345794392523364, 0.009345794392523364, 0.009345794392523364, 0.009345794392523364, 0.009345794392523364, 0.009345794392523364, 0.009345794392523364, 0.009345794392523364, 0.009345794392523364, 0.009345794392523364, 0.009345794392523364, 0.009345794392523364, 0.009345794392523364, 0.009345794392523364, 0.004672897196261682, 0.004672897196261682, 0.004672897196261682, 0.004672897196261682, 0.004672897196261682, 0.004672897196261682, 0.004672897196261682, 0.004672897196261682, 0.004672897196261682, 0.004672897196261682, 0.004672897196261682, 0.004672897196261682, 0.004672897196261682, 0.004672897196261682, 0.004672897196261682, 0.004672897196261682, 0.004672897196261682, 0.004672897196261682, 0.004672897196261682, 0.004672897196261682, 0.004672897196261682, 0.004672897196261682, 0.004672897196261682, 0.004672897196261682, 0.004672897196261682, 0.004672897196261682, 0.004672897196261682, 0.004672897196261682, 0.004672897196261682, 0.004672897196261682, 0.004672897196261682, 0.004672897196261682, 0.004672897196261682, 0.004672897196261682, 0.004672897196261682, 0.004672897196261682, 0.004672897196261682, 0.004672897196261682, 0.004672897196261682, 0.004672897196261682, 0.004672897196261682, 0.004672897196261682, 0.004672897196261682, 0.004672897196261682, 0.004672897196261682, 0.004672897196261682, 0.004672897196261682, 0.004672897196261682, 0.004672897196261682, 0.004672897196261682, 0.004672897196261682, 0.004672897196261682, 0.004672897196261682]\n",
            "[1, 2, 3, 4, 5, 6, 7, 8, 9, 10, 11, 12, 13, 14, 15, 16, 17, 18, 19, 20, 21, 22, 23, 24, 25, 26, 27, 28, 29, 30, 31, 32, 33, 34, 35, 36, 37, 38, 39, 40, 41, 42, 43, 44, 45, 46, 47, 48, 49, 50, 51, 52, 53, 54, 55, 56, 57, 58, 59, 60, 61, 62, 63, 64, 65, 66, 67, 68, 69, 70, 71, 72, 73, 74, 75, 76, 77, 78, 79, 80, 81, 82, 83, 84, 85, 86, 87, 88, 89, 90, 91, 92, 93, 94, 95, 96, 97, 98, 99, 100, 101, 102, 103, 104, 105, 106]\n",
            "Q0.9= 0.014018691588785047\n",
            "Q0.97= 0.018691588785046728\n",
            "i0.9= 18\n",
            "i0.97= 7\n",
            "106\n",
            "0.014018691588785047\n",
            "18 ['consequat', 'amet', 'aliquet', 'donec', 'purus', 'tincidunt', 'qui', 'arcu', 'ipsum', 'eget', 'vestibulum', '.', 'ligula', 'massa', 'nec', ',', 'vel', 'laoreet']\n"
          ]
        },
        {
          "data": {
            "image/png": "[encoded data removed]",
            "text/plain": [
              "<Figure size 640x480 with 1 Axes>"
            ]
          },
          "metadata": {},
          "output_type": "display_data"
        }
      ],
      "source": [
        "from re import I\n",
        "import nltk\n",
        "nltk.download('p/unkt')\n",
        "nltk.download('wordnet')\n",
        "nltk.download('stopwords')\n",
        "nltk.download('omw-1.4')\n",
        "from nltk.tokenize import word_tokenize  \n",
        "from nltk.corpus import stopwords\n",
        "from nltk.stem import WordNetLemmatizer\n",
        "from nltk.stem.porter import *\n",
        "from nltk.stem import SnowballStemmer\n",
        "\n",
        "\n",
        "snowball = SnowballStemmer(language=\"english\")\n",
        "stemmer = PorterStemmer()\n",
        "tokens = stpwords\n",
        "\n",
        "#Stemming\n",
        "stemed_tokens = []\n",
        "for word in tokens:\n",
        "    stemed_tokens.append(snowball.stem(word))\n",
        "print(stemed_tokens)\n",
        "print('Stemed', len(stemed_tokens))\n",
        "stemed_unique = FreqDist(stemed_tokens)\n",
        "stemed_unique = stemed_unique.most_common()\n",
        "print(stemed_unique)\n",
        "print('Unique', len(stemed_unique))\n",
        "#Lemmatization\n",
        "\n",
        "lemmatizer = WordNetLemmatizer()\n",
        "print(lemmatizer.lemmatize('carring'))\n",
        "nltk_lemma_list = []\n",
        "for word in stemed_tokens:\n",
        "    nltk_lemma_list.append(lemmatizer.lemmatize(word))\n",
        "print(len(nltk_lemma_list),nltk_lemma_list)\n",
        "normalized_tokens = []  \n",
        "nltk_stop_words = set(stopwords.words(\"english\"))\n",
        "for w in nltk_lemma_list:  \n",
        "    if w not in nltk_stop_words:  \n",
        "        normalized_tokens.append(w)\n",
        "print(len(normalized_tokens))\n",
        "nn = set(normalized_tokens)\n",
        "dic = {}\n",
        "countt=[]\n",
        "for i in nn:\n",
        "    k = normalized_tokens.count(i)\n",
        "    dic[i]=k\n",
        "    countt.append(k)\n",
        "probability = [i/sum(countt) for i in countt]\n",
        "print(list(reversed(sorted(probability))))\n",
        "prob = list(reversed(sorted(probability)))\n",
        "print('PROBOBOBOBOB=',prob)\n",
        "\n",
        "prob2 = [1/(i+1) for i in range(len(prob))]\n",
        "\n",
        "import matplotlib.pyplot as plt\n",
        "import mpl_toolkits.mplot3d as mpl\n",
        "import numpy as np\n",
        "y = prob\n",
        "print(y)\n",
        "x = [i+1 for i in range(len(y))]\n",
        "print(x)\n",
        "\n",
        "\n",
        "\n",
        "spis = []\n",
        "print('Q0.9=',np.quantile(np.array(prob), 0.9))\n",
        "print('Q0.97=',np.quantile(np.array(prob), 0.97))\n",
        "i097=0\n",
        "i09=0\n",
        "for i in range(len(prob)):\n",
        "  if prob[i]<np.quantile(np.array(prob), 0.9):\n",
        "    print('i0.9=',i)\n",
        "    i09=i\n",
        "    break\n",
        "for i in range(len(prob)):\n",
        "  if prob[i]<np.quantile(np.array(prob), 0.97):\n",
        "    print('i0.97=',i)\n",
        "    i097=i\n",
        "    break    \n",
        "\n",
        "fig, ax = plt.subplots()\n",
        "plt.axvline(x=int(i09),color='red') \n",
        "plt.axvline(x=int(i097),color='green') \n",
        "ax.plot(x,prob) #marker=\"o\",label ='Кривая Ципфа')\n",
        "ax.set_xlabel('Место в частотном словаре (ранг)')\n",
        "ax.set_ylabel('Частота встречаемости слова')\n",
        "ax.legend()\n",
        "\n",
        "print(len(prob))\n",
        "print(prob[i097])\n",
        "for i in nn:\n",
        "    k = normalized_tokens.count(i)\n",
        "    if k/len(normalized_tokens)>prob[i097+20]:\n",
        "      spis.append(i)\n",
        "print(len(spis),spis)"
      ]
    },
    {
      "cell_type": "code",
      "execution_count": null,
      "metadata": {
        "colab": {
          "base_uri": "https://localhost:8080/"
        },
        "id": "T6_Ho0UwNi6U",
        "outputId": "4fd0dcc4-8df7-4cf6-e081-4c011e464497"
      },
      "outputs": [],
      "source": [
        "import math\n",
        "print(math.dist(prob,prob2))\n",
        "metr = 0\n",
        "mx = abs(prob[0]-prob2[0])\n",
        "for i in range(len(prob)):\n",
        "  if abs(prob[i]-prob2[i])>mx:\n",
        "    mx = abs(prob[i]-prob2[i])\n",
        "metr=0\n",
        "print(mx)\n",
        "for i in range(len(prob)):\n",
        "    metr+= abs(prob[i]-prob2[i])\n",
        "print(metr)"
      ]
    },
    {
      "cell_type": "code",
      "execution_count": null,
      "metadata": {
        "colab": {
          "base_uri": "https://localhost:8080/",
          "height": 252
        },
        "id": "5jPX4DurFYsW",
        "outputId": "421d3bad-5518-430b-dcbb-ce87e27685ca"
      },
      "outputs": [],
      "source": []
    }
  ],
  "metadata": {
    "colab": {
      "provenance": []
    },
    "kernelspec": {
      "display_name": "Python 3.9.15 ('lab4-gbsP5jFt')",
      "language": "python",
      "name": "python3"
    },
    "language_info": {
      "codemirror_mode": {
        "name": "ipython",
        "version": 3
      },
      "file_extension": ".py",
      "mimetype": "text/x-python",
      "name": "python",
      "nbconvert_exporter": "python",
      "pygments_lexer": "ipython3",
      "version": "3.9.15"
    },
    "vscode": {
      "interpreter": {
        "hash": "8a00445512cdff484be6992561f133b5a57fb034073a718cf3b58207122bdb91"
      }
    }
  },
  "nbformat": 4,
  "nbformat_minor": 0
}
